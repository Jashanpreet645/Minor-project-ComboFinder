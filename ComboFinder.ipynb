{
  "nbformat": 4,
  "nbformat_minor": 0,
  "metadata": {
    "colab": {
      "provenance": [],
      "authorship_tag": "ABX9TyPCf8nGErM39ArcyNdh2l6W",
      "include_colab_link": true
    },
    "kernelspec": {
      "name": "python3",
      "display_name": "Python 3"
    },
    "language_info": {
      "name": "python"
    }
  },
  "cells": [
    {
      "cell_type": "markdown",
      "metadata": {
        "id": "view-in-github",
        "colab_type": "text"
      },
      "source": [
        "<a href=\"https://colab.research.google.com/github/Jashanpreet645/Minor-project-ComboFinder/blob/main/ComboFinder.ipynb\" target=\"_parent\"><img src=\"https://colab.research.google.com/assets/colab-badge.svg\" alt=\"Open In Colab\"/></a>"
      ]
    },
    {
      "cell_type": "code",
      "execution_count": null,
      "metadata": {
        "id": "ZgHmxwJ9hXi7"
      },
      "outputs": [],
      "source": [
        "import random as r\n",
        "ProductList = {'p1':10, 'p2':15, 'p3':20, 'p4':25, 'p5':30, 'p6':35, 'p7':50,'p8':40, 'p9':55, 'p10':60, 'p11':65, 'p12':75, 'p13':70,'p14':45}\n",
        "LB = 290\n",
        "UB = 310\n",
        "resultlist = set()\n",
        "iterations = 1000\n",
        "\n",
        "for i in range(iterations):\n",
        "  setsize = r.randint(2,len(ProductList)-1)\n",
        "  comblist = r.sample(list(ProductList.keys()),setsize)\n",
        "\n",
        "  combsum =  sum(ProductList[i] for i in comblist)\n",
        "  # print(combsum)\n",
        "  if combsum >=290 and combsum <=310:\n",
        "    resultlist.add(tuple(comblist))\n",
        "for r in resultlist:\n",
        "  print(r)\n",
        "print(len(resultlist))"
      ]
    }
  ]
}